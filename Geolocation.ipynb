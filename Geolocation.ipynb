{
 "cells": [
  {
   "cell_type": "code",
   "execution_count": 22,
   "id": "67b40974-95b8-448c-8a9d-fb4e9633fbc8",
   "metadata": {},
   "outputs": [
    {
     "name": "stdout",
     "output_type": "stream",
     "text": [
      "Bancroft and Area,45.0570769,-77.8537127\n",
      "Barrie And District,44.3893113,-79.6901736\n",
      "Brantford,43.1408157,-80.2631733\n",
      "Cambridge,43.3600536,-80.3123023\n",
      "Greater Toronto,43.6534817,-79.3839347\n",
      "Grey Bruce Owen Sound,44.5678105,-80.9430094\n",
      "Guelph And District,43.5460516,-80.2493276\n",
      "Hamilton Burlington,43.2560802,-79.8728583\n",
      "Huron Perth,43.6406639,-81.4793923\n",
      "Kawartha Lakes,44.575616,-78.8486034\n",
      "Kingston And Area,44.230687,-76.481323\n",
      "Kitchener Waterloo,43.4652699,-80.5222961\n",
      "Lakelands,45.1307013,-79.3839611\n",
      "London St Thomas,42.9832406,-81.243372\n",
      "Mississauga,43.5896231,-79.6443879\n",
      "Niagara Region,43.0631891,-79.3098089\n",
      "Northumberland Hills,44.2034244,-77.8769111\n",
      "North Bay,46.3092115,-79.4607617\n",
      "Oakville Milton,43.447436,-79.666672\n",
      "Ottawa,45.4208777,-75.6901106\n",
      "Peterborough And Kawarthas,44.3048009,-78.3199496\n",
      "Quinte And District,44.1884744,-77.3403039\n",
      "Rideau St Lawrence,45.4263154,-75.6914553\n",
      "Sault Ste Marie,46.52391,-84.320068\n",
      "Simcoe And District,42.8353002,-80.31389770907487\n",
      "Sudbury,46.49272,-80.991211\n",
      "Tillsonburg District,42.859494,-80.7265015\n",
      "Windsor Essex,42.3167397,-83.0373389\n",
      "Woodstock Ingersoll,43.1301111,-80.7562977\n"
     ]
    }
   ],
   "source": [
    "# importing geopy library\n",
    "from geopy.geocoders import Nominatim\n",
    " \n",
    "# calling the Nominatim tool\n",
    "loc = Nominatim(user_agent=\"GetLoc\")\n",
    "\n",
    "#Array of regional locations\n",
    "locations = [\n",
    "    [\"Bancroft, ontario\", \"Bancroft and Area\"],\n",
    "    [\"Barrie, Ontario\", \"Barrie And District\"], \n",
    "    [\"Brantford, Ontario\", \"Brantford\"], \n",
    "    [\"Cambridge, Ontario\", \"Cambridge\"], \n",
    "    [\"Toronto, Ontario\", \"Greater Toronto\"], \n",
    "    [\"Owen Sound, Ontario\", \"Grey Bruce Owen Sound\"], \n",
    "    [\"Guelph, Ontario\", \"Guelph And District\"], \n",
    "    [\"Hamilton, Ontario\", \"Hamilton Burlington\"], \n",
    "    [\"Huron, Ontario\", \"Huron Perth\"], \n",
    "    [\"Kawartha Lakes, Ontario\", \"Kawartha Lakes\"], \n",
    "    [\"Kingston, Ontario\", \"Kingston And Area\"], \n",
    "    [\"Waterloo, Ontario\", \"Kitchener Waterloo\"], \n",
    "    [\"Muskoka, Ontario\", \"Lakelands\"], \n",
    "    [\"London, Ontario\", \"London St Thomas\"], \n",
    "    [\"Mississauga, Ontario\", \"Mississauga\"], \n",
    "    [\"Niagara region, Ontario\", \"Niagara Region\"], \n",
    "    [\"Northumberland Hills, Ontario\", \"Northumberland Hills\"], \n",
    "    [\"North Bay, Ontario\", \"North Bay\"], \n",
    "    [\"Oakville, Ontario\", \"Oakville Milton\"], \n",
    "    [\"Ottawa, Ontario\", \"Ottawa\"], \n",
    "    [\"Peterborough, Ontario\", \"Peterborough And Kawarthas\"], \n",
    "    [\"Quinte, Ontario\", \"Quinte And District\"], \n",
    "    [\"Rideau, Ontario\", \"Rideau St Lawrence\"], \n",
    "    [\"Sault Ste Marie, Ontario\", \"Sault Ste Marie\"], \n",
    "    [\"Norfolk General Hospital, Simcoe, Ontario\", \"Simcoe And District\"], \n",
    "    [\"Sudbury, Ontario\", \"Sudbury\"],\n",
    "    [\"Tillsonburg, Ontario\", \"Tillsonburg District\"] ,\n",
    "    [\"Windsor, Ontario\", \"Windsor Essex\"] ,\n",
    "    [\"Woodstock, Ontario\", \"Woodstock Ingersoll\"]\n",
    "]\n",
    "\n",
    "#\n",
    "for l in locations:\n",
    "    getLoc = loc.geocode(l[0])\n",
    "    #print(getLoc.address)\n",
    "    print(l[1] + \",\" + str(getLoc.latitude) + \",\" + str(getLoc.longitude))\n",
    "\n"
   ]
  },
  {
   "cell_type": "code",
   "execution_count": null,
   "id": "8b38871f-c83f-4240-9395-ea89055d065f",
   "metadata": {},
   "outputs": [],
   "source": []
  }
 ],
 "metadata": {
  "kernelspec": {
   "display_name": "dev",
   "language": "python",
   "name": "dev"
  },
  "language_info": {
   "codemirror_mode": {
    "name": "ipython",
    "version": 3
   },
   "file_extension": ".py",
   "mimetype": "text/x-python",
   "name": "python",
   "nbconvert_exporter": "python",
   "pygments_lexer": "ipython3",
   "version": "3.7.13"
  }
 },
 "nbformat": 4,
 "nbformat_minor": 5
}
